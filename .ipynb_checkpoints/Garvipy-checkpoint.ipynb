{
 "cells": [
  {
   "cell_type": "code",
   "execution_count": 3,
   "metadata": {},
   "outputs": [],
   "source": [
    "from sympy import *"
   ]
  },
  {
   "cell_type": "code",
   "execution_count": 4,
   "metadata": {},
   "outputs": [],
   "source": [
    "N = 3;\n",
    "G = symbols(\"g\")\n",
    "M,t,r,theta,phi = symbols(\" M t r theta phi\")\n",
    "x0,x1,x2,x3 = symbols(\"x^0 x^1 x^2 x^3\")\n",
    "x0 = r\n",
    "x1 = theta\n",
    "x2 = phi\n",
    "x3 = phi\n",
    "x = [x0,x1,x2,x3]"
   ]
  },
  {
   "cell_type": "code",
   "execution_count": 5,
   "metadata": {},
   "outputs": [],
   "source": [
    "def Metric():\n",
    "    g00 = 1\n",
    "    g01 = 0\n",
    "    g02 = 0\n",
    "    g03 = 0\n",
    "    g10 = 0\n",
    "    g11 = r*r\n",
    "    g12 = 0\n",
    "    g13 = 0\n",
    "    g20 = 0\n",
    "    g21 = 0\n",
    "    g22 =  r**2*sin(theta)*sin(theta)\n",
    "    g23 = 0\n",
    "    g30 = 0\n",
    "    g31 = 0\n",
    "    g32 = 0\n",
    "    g33 =  r**2*sin(theta)**2\n",
    "    return ([[g00,g01,g02,g03],\n",
    "             [g10,g11,g12,g13],\n",
    "             [g20,g21,g22,g23],\n",
    "             [g30,g31,g32,g33]])"
   ]
  },
  {
   "cell_type": "code",
   "execution_count": 6,
   "metadata": {},
   "outputs": [],
   "source": [
    "G = Matrix(Metric())"
   ]
  },
  {
   "cell_type": "code",
   "execution_count": 7,
   "metadata": {},
   "outputs": [],
   "source": [
    "gij = Metric()"
   ]
  },
  {
   "cell_type": "code",
   "execution_count": 8,
   "metadata": {},
   "outputs": [],
   "source": [
    "def g(i,j):\n",
    "    return G[i,j]\n",
    "\n",
    "def ginv(i,j):\n",
    "    return G.inv(method=\"LU\")[i,j]"
   ]
  },
  {
   "cell_type": "code",
   "execution_count": 9,
   "metadata": {},
   "outputs": [],
   "source": [
    "def T(m,i,j):\n",
    "    T = 0\n",
    "    for n in range(0,N):\n",
    "        T  = T + 0.5*ginv(m,n)*(diff(g(i,n),x[j]) + diff(g(n,j),x[i]) - diff(g(j,i),x[n]) )\n",
    "    \n",
    "    return simplify(T)\n",
    "    "
   ]
  },
  {
   "cell_type": "code",
   "execution_count": 10,
   "metadata": {},
   "outputs": [],
   "source": [
    "def R(i,j,k,l):\n",
    "    R = diff(T(i,l,j),x[k]) + diff(T(i,k,j),x[l])\n",
    "    TT1 = 0\n",
    "    TT2 = 0\n",
    "    for n in range(0,N):\n",
    "        TT1 = TT1 + T(i,k,n)*T(n,l,j)\n",
    "        TT2 = TT2 + T(i,l,n)*T(n,k,j)\n",
    "    R = R + TT1 + TT2\n",
    "\n",
    "    return simplify(R)\n"
   ]
  },
  {
   "cell_type": "code",
   "execution_count": 11,
   "metadata": {},
   "outputs": [],
   "source": [
    "def covarR(i,j,k,l):\n",
    "    CovR =0\n",
    "    for n in range(0,N):\n",
    "        CovR += g(i,n)*R(n,j,k,l)\n",
    "\n",
    "    return simplify(CovR)\n"
   ]
  },
  {
   "cell_type": "code",
   "execution_count": 12,
   "metadata": {},
   "outputs": [],
   "source": [
    "def RicciTensor(i,j):\n",
    "    RicT =0\n",
    "    for m in range(0,N):\n",
    "        for n in range(0,N):\n",
    "            RicT += g(m,n)*R(m,i,n,j)\n",
    "\n",
    "    return RicT \n",
    "    \n",
    "\n"
   ]
  },
  {
   "cell_type": "code",
   "execution_count": 13,
   "metadata": {},
   "outputs": [],
   "source": [
    "def RicciScalar():\n",
    "    RicS = 0\n",
    "    for m in range(0,N):\n",
    "        for n in range(0,N):\n",
    "            RicS += ginv(m,n)*RicciTensor(m,n)\n",
    "\n",
    "    return RicS\n",
    "    "
   ]
  },
  {
   "cell_type": "code",
   "execution_count": 14,
   "metadata": {},
   "outputs": [
    {
     "data": {
      "text/latex": [
       "$\\displaystyle \\frac{- 2.0 r^{2} \\sin^{2}{\\left(\\theta \\right)} - 2.0 r^{2} - 2.0}{r^{2}} + \\frac{- 2.0 r^{2} \\sin^{2}{\\left(\\theta \\right)} - \\frac{1.0 r^{2} \\sin{\\left(2 \\theta \\right)}}{\\tan{\\left(\\theta \\right)}} - 2.0 \\sin^{2}{\\left(\\theta \\right)}}{r^{2} \\sin^{2}{\\left(\\theta \\right)}}$"
      ],
      "text/plain": [
       "(-2.0*r**2*sin(theta)**2 - 2.0*r**2 - 2.0)/r**2 + (-2.0*r**2*sin(theta)**2 - 1.0*r**2*sin(2*theta)/tan(theta) - 2.0*sin(theta)**2)/(r**2*sin(theta)**2)"
      ]
     },
     "execution_count": 14,
     "metadata": {},
     "output_type": "execute_result"
    }
   ],
   "source": [
    "RicciScalar()"
   ]
  },
  {
   "cell_type": "code",
   "execution_count": 15,
   "metadata": {},
   "outputs": [],
   "source": [
    "def ChrisSym():\n",
    "    for i in range(0,N):\n",
    "        for j in range(0,N):\n",
    "            for k in range(0,N):\n",
    "                t= T(i,j,k)\n",
    "                print(t)"
   ]
  },
  {
   "cell_type": "code",
   "execution_count": 16,
   "metadata": {},
   "outputs": [
    {
     "name": "stdout",
     "output_type": "stream",
     "text": [
      "0\n",
      "0\n",
      "0\n",
      "0\n",
      "-1.0*r\n",
      "0\n",
      "0\n",
      "0\n",
      "-1.0*r*sin(theta)**2\n",
      "0\n",
      "1.0/r\n",
      "0\n",
      "1.0/r\n",
      "0\n",
      "0\n",
      "0\n",
      "0\n",
      "-0.5*sin(2*theta)\n",
      "0\n",
      "0\n",
      "1.0/r\n",
      "0\n",
      "0\n",
      "1.0/tan(theta)\n",
      "1.0/r\n",
      "1.0/tan(theta)\n",
      "0\n"
     ]
    }
   ],
   "source": [
    "ChrisSym()"
   ]
  },
  {
   "cell_type": "code",
   "execution_count": null,
   "metadata": {},
   "outputs": [],
   "source": []
  }
 ],
 "metadata": {
  "kernelspec": {
   "display_name": "Python 3",
   "language": "python",
   "name": "python3"
  },
  "language_info": {
   "codemirror_mode": {
    "name": "ipython",
    "version": 3
   },
   "file_extension": ".py",
   "mimetype": "text/x-python",
   "name": "python",
   "nbconvert_exporter": "python",
   "pygments_lexer": "ipython3",
   "version": "3.8.5"
  }
 },
 "nbformat": 4,
 "nbformat_minor": 4
}
