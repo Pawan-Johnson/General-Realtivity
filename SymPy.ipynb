{
 "cells": [
  {
   "cell_type": "code",
   "execution_count": 1,
   "metadata": {},
   "outputs": [],
   "source": [
    "from sympy import *\n",
    "interactive.init_printing(use_latex = true)"
   ]
  },
  {
   "cell_type": "code",
   "execution_count": 2,
   "metadata": {},
   "outputs": [],
   "source": [
    "x,y = symbols('x y')"
   ]
  },
  {
   "cell_type": "code",
   "execution_count": 3,
   "metadata": {},
   "outputs": [],
   "source": [
    "y=sin(x)"
   ]
  },
  {
   "cell_type": "code",
   "execution_count": 4,
   "metadata": {},
   "outputs": [
    {
     "output_type": "execute_result",
     "data": {
      "text/plain": [
       "cos(x)"
      ],
      "image/png": "[encoded data removed]",
      "text/latex": "$\\displaystyle \\cos{\\left(x \\right)}$"
     },
     "metadata": {},
     "execution_count": 4
    }
   ],
   "source": [
    "diff(y,x)"
   ]
  },
  {
   "cell_type": "code",
   "execution_count": 5,
   "metadata": {},
   "outputs": [
    {
     "output_type": "display_data",
     "data": {
      "text/plain": "-cos(x)",
      "image/png": "[encoded data removed]",
      "text/latex": "$\\displaystyle - \\cos{\\left(x \\right)}$"
     },
     "metadata": {}
    },
    {
     "output_type": "display_data",
     "data": {
      "text/plain": "⌠          \n⎮ sin(x) dx\n⌡          ",
      "image/png": "[encoded data removed]",
      "text/latex": "$\\displaystyle \\int \\sin{\\left(x \\right)}\\, dx$"
     },
     "metadata": {}
    }
   ],
   "source": [
    "display(integrate(y,x))\n",
    "display(Integral(y,x))"
   ]
  },
  {
   "cell_type": "code",
   "execution_count": 6,
   "metadata": {},
   "outputs": [
    {
     "output_type": "execute_result",
     "data": {
      "text/plain": [
       "<-2, 2>"
      ],
      "image/png": "[encoded data removed]",
      "text/latex": "$\\displaystyle \\left\\langle -2, 2\\right\\rangle$"
     },
     "metadata": {},
     "execution_count": 6
    }
   ],
   "source": [
    "integrate(y,(x,-oo,oo))"
   ]
  },
  {
   "cell_type": "code",
   "execution_count": 7,
   "metadata": {},
   "outputs": [
    {
     "output_type": "execute_result",
     "data": {
      "text/plain": [
       "0"
      ],
      "image/png": "[encoded data removed]",
      "text/latex": "$\\displaystyle 0$"
     },
     "metadata": {},
     "execution_count": 7
    }
   ],
   "source": [
    "integrate(y,(x,-pi,pi))"
   ]
  },
  {
   "cell_type": "code",
   "execution_count": 8,
   "metadata": {},
   "outputs": [
    {
     "output_type": "execute_result",
     "data": {
      "text/plain": [
       "1"
      ],
      "image/png": "[encoded data removed]",
      "text/latex": "$\\displaystyle 1$"
     },
     "metadata": {},
     "execution_count": 8
    }
   ],
   "source": [
    "limit(sin(x)/x,x,0)"
   ]
  },
  {
   "cell_type": "code",
   "execution_count": 9,
   "metadata": {},
   "outputs": [
    {
     "output_type": "execute_result",
     "data": {
      "text/plain": [
       "     2    4        \n",
       "    x    x     ⎛ 6⎞\n",
       "1 - ── + ── + O⎝x ⎠\n",
       "    2    24        "
      ],
      "image/png": "[encoded data removed]",
      "text/latex": "$\\displaystyle 1 - \\frac{x^{2}}{2} + \\frac{x^{4}}{24} + O\\left(x^{6}\\right)$"
     },
     "metadata": {},
     "execution_count": 9
    }
   ],
   "source": [
    "series(cos(x),x)"
   ]
  },
  {
   "cell_type": "code",
   "execution_count": 10,
   "metadata": {},
   "outputs": [],
   "source": [
    "M = Matrix([ [y,x],[x,y] ])"
   ]
  },
  {
   "cell_type": "code",
   "execution_count": 11,
   "metadata": {},
   "outputs": [
    {
     "output_type": "display_data",
     "data": {
      "text/plain": "⎡sin(x)    x   ⎤\n⎢              ⎥\n⎣  x     sin(x)⎦",
      "image/png": "[encoded data removed]",
      "text/latex": "$\\displaystyle \\left[\\begin{matrix}\\sin{\\left(x \\right)} & x\\\\x & \\sin{\\left(x \\right)}\\end{matrix}\\right]$"
     },
     "metadata": {}
    }
   ],
   "source": [
    "display(M)"
   ]
  },
  {
   "cell_type": "code",
   "execution_count": 12,
   "metadata": {},
   "outputs": [
    {
     "output_type": "display_data",
     "data": {
      "text/plain": "⎡sin(x)    x   ⎤\n⎢              ⎥\n⎣  x     sin(x)⎦",
      "image/png": "[encoded data removed]",
      "text/latex": "$\\displaystyle \\left[\\begin{matrix}\\sin{\\left(x \\right)} & x\\\\x & \\sin{\\left(x \\right)}\\end{matrix}\\right]$"
     },
     "metadata": {}
    },
    {
     "output_type": "display_data",
     "data": {
      "text/plain": "(2, 2)",
      "image/png": "[encoded data removed]",
      "text/latex": "$\\displaystyle \\left( 2, \\  2\\right)$"
     },
     "metadata": {}
    },
    {
     "output_type": "display_data",
     "data": {
      "text/plain": "⎡ 2      2                 ⎤\n⎢x  + sin (x)   2⋅x⋅sin(x) ⎥\n⎢                          ⎥\n⎢               2      2   ⎥\n⎣ 2⋅x⋅sin(x)   x  + sin (x)⎦",
      "image/png": "[encoded data removed]",
      "text/latex": "$\\displaystyle \\left[\\begin{matrix}x^{2} + \\sin^{2}{\\left(x \\right)} & 2 x \\sin{\\left(x \\right)}\\\\2 x \\sin{\\left(x \\right)} & x^{2} + \\sin^{2}{\\left(x \\right)}\\end{matrix}\\right]$"
     },
     "metadata": {}
    },
    {
     "output_type": "display_data",
     "data": {
      "text/plain": "⎡2⋅sin(x)    2⋅x   ⎤\n⎢                  ⎥\n⎣  2⋅x     2⋅sin(x)⎦",
      "image/png": "[encoded data removed]",
      "text/latex": "$\\displaystyle \\left[\\begin{matrix}2 \\sin{\\left(x \\right)} & 2 x\\\\2 x & 2 \\sin{\\left(x \\right)}\\end{matrix}\\right]$"
     },
     "metadata": {}
    },
    {
     "output_type": "display_data",
     "data": {
      "text/plain": "   2      2   \n- x  + sin (x)",
      "image/png": "[encoded data removed]",
      "text/latex": "$\\displaystyle - x^{2} + \\sin^{2}{\\left(x \\right)}$"
     },
     "metadata": {}
    },
    {
     "output_type": "display_data",
     "data": {
      "text/plain": "⎡⎡sin(x)⎤  ⎡  x   ⎤⎤\n⎢⎢      ⎥, ⎢      ⎥⎥\n⎣⎣  x   ⎦  ⎣sin(x)⎦⎦",
      "image/png": "[encoded data removed]",
      "text/latex": "$\\displaystyle \\left[ \\left[\\begin{matrix}\\sin{\\left(x \\right)}\\\\x\\end{matrix}\\right], \\  \\left[\\begin{matrix}x\\\\\\sin{\\left(x \\right)}\\end{matrix}\\right]\\right]$"
     },
     "metadata": {}
    },
    {
     "output_type": "display_data",
     "data": {
      "text/plain": "[]",
      "image/png": "[encoded data removed]",
      "text/latex": "$\\displaystyle \\left[ \\right]$"
     },
     "metadata": {}
    },
    {
     "output_type": "display_data",
     "data": {
      "text/plain": "{-x + sin(x): 1, x + sin(x): 1}",
      "image/png": "[encoded data removed]",
      "text/latex": "$\\displaystyle \\left\\{ - x + \\sin{\\left(x \\right)} : 1, \\  x + \\sin{\\left(x \\right)} : 1\\right\\}$"
     },
     "metadata": {}
    }
   ],
   "source": [
    "display(M.T)\n",
    "display(M.shape)\n",
    "display(M*M)\n",
    "display(M+M)\n",
    "display(M.det())\n",
    "display(M.columnspace())\n",
    "display(M.nullspace())\n",
    "display(M.eigenvals())"
   ]
  }
 ],
 "metadata": {
  "kernelspec": {
   "display_name": "Python 3",
   "language": "python",
   "name": "python3"
  },
  "language_info": {
   "codemirror_mode": {
    "name": "ipython",
    "version": 3
   },
   "file_extension": ".py",
   "mimetype": "text/x-python",
   "name": "python",
   "nbconvert_exporter": "python",
   "pygments_lexer": "ipython3",
   "version": "3.8.5-final"
  }
 },
 "nbformat": 4,
 "nbformat_minor": 4
}